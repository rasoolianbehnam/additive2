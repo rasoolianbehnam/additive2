{
 "cells": [
  {
   "cell_type": "code",
   "execution_count": 1,
   "metadata": {},
   "outputs": [],
   "source": [
    "import os\n",
    "import numpy as np\n",
    "import cv2\n",
    "import matplotlib.pyplot as plt\n",
    "import random\n",
    "import multiprocessing as mp\n",
    "import pathos\n",
    "from glob import glob\n",
    "from joblib import dump, load\n",
    "from IPython.display import clear_output\n",
    "%load_ext autoreload\n",
    "%autoreload 2\n",
    "from utility import *"
   ]
  },
  {
   "cell_type": "code",
   "execution_count": 12,
   "metadata": {},
   "outputs": [],
   "source": [
    "low_contours = load('./low_contours.pkl')\n",
    "high_contours = load('./high_contours.pkl')#glob('part_2__Axis_z/*edges.png')\n",
    "\n",
    "with pathos.multiprocessing.ProcessPool(6) as p:\n",
    "    low_rotated_rect = p.map(lambda x: get_rotated_rect(x, isImage=False), low_contours)\n",
    "    high_rotated_rect = p.map(lambda x: get_rotated_rect(x, isImage=False), high_contours)"
   ]
  },
  {
   "cell_type": "code",
   "execution_count": 13,
   "metadata": {},
   "outputs": [],
   "source": [
    "low_contour_images = load('./low_contour_images.pkl')"
   ]
  },
  {
   "cell_type": "code",
   "execution_count": 15,
   "metadata": {},
   "outputs": [
    {
     "data": {
      "text/plain": [
       "<matplotlib.image.AxesImage at 0x7f66403c32e8>"
      ]
     },
     "execution_count": 15,
     "metadata": {},
     "output_type": "execute_result"
    },
    {
     "data": {
      "image/png": "[encoded data removed]",
      "text/plain": [
       "<Figure size 432x288 with 1 Axes>"
      ]
     },
     "metadata": {},
     "output_type": "display_data"
    }
   ],
   "source": [
    "plt.imshow(low_contour_images[10])"
   ]
  },
  {
   "cell_type": "code",
   "execution_count": 16,
   "metadata": {},
   "outputs": [],
   "source": [
    "low_angles, low_classes, low_c  = remove_outliers(np.array([x[-1] for x in low_rotated_rect]).reshape(-1, 1)\n",
    "                                                  , n_classes=2)\n",
    "high_angles, high_classes, high_c = remove_outliers(np.array([x[-1] for x in high_rotated_rect]).reshape(-1,1)\n",
    "                                                    , n_classes=1)"
   ]
  },
  {
   "cell_type": "code",
   "execution_count": 17,
   "metadata": {},
   "outputs": [
    {
     "name": "stdout",
     "output_type": "stream",
     "text": [
      "0.952\n",
      "1.0\n"
     ]
    }
   ],
   "source": [
    "print(np.sum(low_classes==low_c)/len(low_classes))\n",
    "print(np.sum(high_classes==high_c)/len(high_classes))"
   ]
  },
  {
   "cell_type": "code",
   "execution_count": 29,
   "metadata": {},
   "outputs": [
    {
     "data": {
      "text/plain": [
       "(array([ 0,  1,  2,  3,  4,  5,  6,  7,  8, 11]),)"
      ]
     },
     "execution_count": 29,
     "metadata": {},
     "output_type": "execute_result"
    }
   ],
   "source": [
    "np.where(low_classes==1-low_c)"
   ]
  },
  {
   "cell_type": "code",
   "execution_count": 30,
   "metadata": {},
   "outputs": [],
   "source": [
    "low_mean_angle = np.mean(low_angles)\n",
    "low_center = np.min([x[0] for x in low_rotated_rect], axis=0)+10\n",
    "low_size = np.max([x[1] for x in low_rotated_rect], axis=0)+20"
   ]
  },
  {
   "cell_type": "code",
   "execution_count": 31,
   "metadata": {},
   "outputs": [],
   "source": [
    "high_mean_angle = np.mean(high_angles)\n",
    "high_center = np.min([x[0] for x in high_rotated_rect], axis=0)+10\n",
    "high_size = np.max([x[1] for x in high_rotated_rect], axis=0)+20"
   ]
  },
  {
   "cell_type": "code",
   "execution_count": 32,
   "metadata": {},
   "outputs": [],
   "source": [
    "_, low_classes, low_c = remove_outliers(np.array([x[1] for x in low_rotated_rect]).reshape(-1, 2))\n",
    "_, high_classes, high_c = remove_outliers(np.array([x[1] for x in high_rotated_rect]).reshape(-1, 2), 1)"
   ]
  },
  {
   "cell_type": "code",
   "execution_count": 33,
   "metadata": {},
   "outputs": [
    {
     "name": "stdout",
     "output_type": "stream",
     "text": [
      "0.96\n",
      "1.0\n"
     ]
    }
   ],
   "source": [
    "print(np.sum(low_classes==low_c)/len(low_classes))\n",
    "print(np.sum(high_classes==high_c)/len(high_classes))"
   ]
  },
  {
   "cell_type": "code",
   "execution_count": 34,
   "metadata": {},
   "outputs": [],
   "source": [
    "#for c, file in zip(low_classes, low_files):\n",
    "def fun(args):\n",
    "    file, angle = args\n",
    "    #print(file, c)\n",
    "    rect = get_rotated_rect(file, isImage=True)\n",
    "    rect = list(rect)\n",
    "    #rect[-1] = angle\n",
    "    #rect = (low_center, low_size, low_mean_angle)\n",
    "    img = cv2.imread(file, 0)\n",
    "    img_crop, img_rot = crop_rect(img, rect)\n",
    "    #plt.imshow(img_crop)\n",
    "    return img_crop"
   ]
  },
  {
   "cell_type": "code",
   "execution_count": 35,
   "metadata": {},
   "outputs": [],
   "source": [
    "low_files = glob('part_2__Axis_z/*edges.png')\n",
    "high_files = glob('LSU_NonHIP/2.9um/*_edges.png')"
   ]
  },
  {
   "cell_type": "code",
   "execution_count": 36,
   "metadata": {},
   "outputs": [
    {
     "data": {
      "text/plain": [
       "<matplotlib.image.AxesImage at 0x7f66403b7588>"
      ]
     },
     "execution_count": 36,
     "metadata": {},
     "output_type": "execute_result"
    },
    {
     "data": {
      "image/png": "[encoded data removed]",
      "text/plain": [
       "<Figure size 432x288 with 1 Axes>"
      ]
     },
     "metadata": {},
     "output_type": "display_data"
    }
   ],
   "source": [
    "index = np.random.randint(len(low_files))\n",
    "plt.imshow(fun((low_files[index], low_mean_angle)))"
   ]
  },
  {
   "cell_type": "code",
   "execution_count": 37,
   "metadata": {},
   "outputs": [
    {
     "data": {
      "text/plain": [
       "<matplotlib.image.AxesImage at 0x7f663d2d2cc0>"
      ]
     },
     "execution_count": 37,
     "metadata": {},
     "output_type": "execute_result"
    },
    {
     "data": {
      "image/png": "[encoded data removed]",
      "text/plain": [
       "<Figure size 432x288 with 1 Axes>"
      ]
     },
     "metadata": {},
     "output_type": "display_data"
    }
   ],
   "source": [
    "index = np.random.randint(len(high_files))\n",
    "plt.imshow(fun((high_files[index], high_mean_angle)))"
   ]
  },
  {
   "cell_type": "code",
   "execution_count": 38,
   "metadata": {},
   "outputs": [],
   "source": [
    "with mp.Pool(4) as p:\n",
    "    low_cropped_images = p.map(fun, zip(low_files, [low_mean_angle]*len(low_files)))"
   ]
  },
  {
   "cell_type": "code",
   "execution_count": 39,
   "metadata": {},
   "outputs": [],
   "source": [
    "with mp.Pool(4) as p:\n",
    "    high_cropped_images = p.map(fun, zip(high_files, [high_mean_angle]*len(high_files)))"
   ]
  },
  {
   "cell_type": "code",
   "execution_count": 25,
   "metadata": {},
   "outputs": [
    {
     "data": {
      "text/plain": [
       "['high_cropped_images.pkl']"
      ]
     },
     "execution_count": 25,
     "metadata": {},
     "output_type": "execute_result"
    }
   ],
   "source": [
    "dump(low_cropped_images, 'low_cropped_images.pkl')\n",
    "dump(high_cropped_images,'high_cropped_images.pkl')"
   ]
  },
  {
   "cell_type": "code",
   "execution_count": 26,
   "metadata": {},
   "outputs": [
    {
     "data": {
      "text/plain": [
       "1"
      ]
     },
     "execution_count": 26,
     "metadata": {},
     "output_type": "execute_result"
    }
   ],
   "source": [
    "high_cropped_images[100].max()"
   ]
  },
  {
   "cell_type": "code",
   "execution_count": null,
   "metadata": {},
   "outputs": [],
   "source": []
  }
 ],
 "metadata": {
  "kernelspec": {
   "display_name": "Python 3",
   "language": "python",
   "name": "python3"
  },
  "language_info": {
   "codemirror_mode": {
    "name": "ipython",
    "version": 3
   },
   "file_extension": ".py",
   "mimetype": "text/x-python",
   "name": "python",
   "nbconvert_exporter": "python",
   "pygments_lexer": "ipython3",
   "version": "3.5.2"
  }
 },
 "nbformat": 4,
 "nbformat_minor": 2
}
